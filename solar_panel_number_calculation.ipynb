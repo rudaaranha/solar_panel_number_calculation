{
  "nbformat": 4,
  "nbformat_minor": 0,
  "metadata": {
    "colab": {
      "provenance": [],
      "authorship_tag": "ABX9TyMn+M+V2tM5OrjkKFRmWUOl",
      "include_colab_link": true
    },
    "kernelspec": {
      "name": "python3",
      "display_name": "Python 3"
    },
    "language_info": {
      "name": "python"
    }
  },
  "cells": [
    {
      "cell_type": "markdown",
      "metadata": {
        "id": "view-in-github",
        "colab_type": "text"
      },
      "source": [
        "<a href=\"https://colab.research.google.com/github/rudaaranha/solar_panel_number_calculation/blob/main/solar_panel_number_calculation.ipynb\" target=\"_parent\"><img src=\"https://colab.research.google.com/assets/colab-badge.svg\" alt=\"Open In Colab\"/></a>"
      ]
    },
    {
      "cell_type": "code",
      "source": [
        "!pip install -q -U google-generativeai"
      ],
      "metadata": {
        "id": "orkiWK6ns4JA"
      },
      "execution_count": 28,
      "outputs": []
    },
    {
      "cell_type": "code",
      "source": [
        "import google.generativeai as genai\n",
        "from math import ceil"
      ],
      "metadata": {
        "id": "bGUP78wXr6ep"
      },
      "execution_count": 58,
      "outputs": []
    },
    {
      "cell_type": "code",
      "source": [
        "# Configure Google Generative AI (substitua 'YOUR_API_KEY' com sua chave de API)\n",
        "import google.generativeai as genai\n",
        "from google.colab import userdata\n",
        "api_key = userdata.get('SECRET_KEY')\n",
        "genai.configure(api_key=api_key)"
      ],
      "metadata": {
        "id": "HKpmAo0zu6fH"
      },
      "execution_count": 86,
      "outputs": []
    },
    {
      "cell_type": "markdown",
      "source": [
        "Cálculo do consumo diário de energia\n"
      ],
      "metadata": {
        "id": "wYJXNeRDvyFO"
      }
    },
    {
      "cell_type": "code",
      "source": [
        "def calcular_consumo_diario(consumo_mensal: float) -> float:\n",
        "    \"\"\"Calcula o consumo médio diário e adiciona 30%.\"\"\"\n",
        "    fator_de_seguranca = 1.3\n",
        "    numero_de_dias = 30\n",
        "    return (consumo_mensal / numero_de_dias) * fator_de_seguranca"
      ],
      "metadata": {
        "id": "DrQwKmNSv7sN"
      },
      "execution_count": 38,
      "outputs": []
    },
    {
      "cell_type": "markdown",
      "source": [
        "Cálculo da potência do sistema\n"
      ],
      "metadata": {
        "id": "XtZIYvGLxRIY"
      }
    },
    {
      "cell_type": "code",
      "source": [
        "def calcular_potencia_sistema(consumo_diario: float, irradiacao: float) -> float:\n",
        "    \"\"\"Calcula a potência do sistema solar em kW.\"\"\"\n",
        "    eficiencia = 0.8 # eficiência das placas de aprox 80%\n",
        "    return consumo_diario / (eficiencia * irradiacao)"
      ],
      "metadata": {
        "id": "HMBIgdU1xT0G"
      },
      "execution_count": 39,
      "outputs": []
    },
    {
      "cell_type": "markdown",
      "source": [
        "Cálculo do número de placas"
      ],
      "metadata": {
        "id": "JJWUw5yrxX9O"
      }
    },
    {
      "cell_type": "code",
      "source": [
        "def calcular_numero_placas(potencia_sistema: float) -> int:\n",
        "    \"\"\"Calcula o número de placas solares necessárias.\"\"\"\n",
        "    potencia_placa = 0.55  # Para placas de 550w - fazer p/ outros valores no futuro\n",
        "    numero_de_placas = potencia_sistema / potencia_placa\n",
        "    return int(ceil(numero_de_placas))"
      ],
      "metadata": {
        "id": "xTHQiFzLxaxv"
      },
      "execution_count": 59,
      "outputs": []
    },
    {
      "cell_type": "markdown",
      "source": [
        "Resposta do Bot"
      ],
      "metadata": {
        "id": "0VXp7dwN5LGn"
      }
    },
    {
      "cell_type": "code",
      "source": [
        "generation_config = {\n",
        "        \"candidate_count\": 1,\n",
        "        \"temperature\": 0.5,\n",
        "    }\n",
        "model = genai.GenerativeModel(\n",
        "        model_name='gemini-1.0-pro',\n",
        "        generation_config=generation_config\n",
        "    )"
      ],
      "metadata": {
        "id": "JRZhIVHPSRRX"
      },
      "execution_count": 53,
      "outputs": []
    },
    {
      "cell_type": "code",
      "source": [
        "# Obtendo o consumo médio diário da residência e adicionando 30% como fator de segurança\n",
        "consumo_mensal = float(input(\"Digite o seu consumo médio mensal em kWh: \"))\n",
        "consumo_diario = calcular_consumo_diario(consumo_mensal)\n",
        "\n",
        "# Obtendo a irradiação média diária da cidade\n",
        "print('Para realizar o cálculo energético e obter o número de placas solares necessárias para sua casa preciso saber a cidade e estado.')\n",
        "cidade = input('Cidade: ')\n",
        "estado = input('Estado: ')\n",
        "\n",
        "response = model.generate_content(f'qual é a irradiação solar da cidade de {cidade} localizada no estado {estado} em kWh/m**2 * dia')\n",
        "\n",
        "try:\n",
        "  # Tenta extrair o valor assumindo o formato \"irradiacao = valor\"\n",
        "  irradiacao_str = response.text.split(\" = \")[1].split(\" \")[0].replace(\",\", \".\").strip()\n",
        "  irradiacao = float(irradiacao_str)\n",
        "\n",
        "except IndexError:\n",
        "  # Se o formato não for o esperado, solicita ao modelo a resposta no formato correto\n",
        "  response = model.generate_content(f'qual é a irradiação solar da cidade de {cidade} localizada no estado {estado} em kWh/m**2 * dia? Responda no formato \"irradiacao = valor\".')\n",
        "  irradiacao_str = response.text.split(\" = \")[1].split(\" \")[0].replace(\",\", \".\").strip()\n",
        "  irradiacao = float(irradiacao_str)\n",
        "\n",
        "# Calculando a potência e o número de placas necessário\n",
        "potencia_sistema = calcular_potencia_sistema(consumo_diario, irradiacao)\n",
        "numero_placas = calcular_numero_placas(potencia_sistema)\n",
        "\n",
        "# Resposta final do bot\n",
        "final_response = model.generate_content(f'Esse é um projeto para calcular o numero de placas solares de uma residência. faça um pequeno texto mostrando o {numero_placas} calculado. lembrando que o consumo médio é mensal e não anual')\n",
        "print(final_response.text)"
      ],
      "metadata": {
        "colab": {
          "base_uri": "https://localhost:8080/",
          "height": 165
        },
        "id": "Vs7d4b5LTkhR",
        "outputId": "e4389d26-a474-4cd7-f2ec-79391f2ac3c0"
      },
      "execution_count": 84,
      "outputs": [
        {
          "output_type": "stream",
          "name": "stdout",
          "text": [
            "Digite o seu consumo médio mensal em kWh: 250\n",
            "Para realizar o cálculo energético e obter o número de placas solares necessárias para sua casa preciso saber a cidade e estado.\n",
            "Cidade: campina grande\n",
            "Estado: campina grande\n",
            "Para determinar o número de placas solares necessárias para uma residência, é crucial considerar o consumo médio mensal de energia.\n",
            "\n",
            "Para uma residência com um consumo médio mensal de 500 kWh, por exemplo, seriam necessárias cerca de 5 placas solares. Cada placa solar produz aproximadamente 100 kWh mensais, portanto, 5 placas forneceriam 500 kWh, atendendo às necessidades energéticas da residência.\n"
          ]
        }
      ]
    }
  ]
}